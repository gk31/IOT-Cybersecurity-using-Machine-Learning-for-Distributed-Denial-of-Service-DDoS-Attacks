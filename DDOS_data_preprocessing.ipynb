{
  "nbformat": 4,
  "nbformat_minor": 0,
  "metadata": {
    "colab": {
      "provenance": []
    },
    "kernelspec": {
      "name": "python3",
      "display_name": "Python 3"
    },
    "language_info": {
      "name": "python"
    }
  },
  "cells": [
    {
      "cell_type": "code",
      "execution_count": null,
      "metadata": {
        "colab": {
          "base_uri": "https://localhost:8080/"
        },
        "id": "8vSBrhX80nci",
        "outputId": "560144f4-7b66-4186-c065-a1384ea8676d"
      },
      "outputs": [
        {
          "output_type": "stream",
          "name": "stdout",
          "text": [
            "Mounted at /content/drive\n"
          ]
        }
      ],
      "source": [
        "from google.colab import drive\n",
        "drive.mount('/content/drive')"
      ]
    },
    {
      "cell_type": "code",
      "source": [
        "cd ./drive/My\\ Drive"
      ],
      "metadata": {
        "colab": {
          "base_uri": "https://localhost:8080/"
        },
        "id": "IDPpX29N0py5",
        "outputId": "b3059529-d52b-4ced-ac53-71d24661e6c3"
      },
      "execution_count": null,
      "outputs": [
        {
          "output_type": "stream",
          "name": "stdout",
          "text": [
            "/content/drive/My Drive\n"
          ]
        }
      ]
    },
    {
      "cell_type": "code",
      "source": [
        "cd ./SAP/"
      ],
      "metadata": {
        "colab": {
          "base_uri": "https://localhost:8080/"
        },
        "id": "W2nTYxta05ah",
        "outputId": "96b57753-ee5e-45a3-eec8-5a66cfb1578f"
      },
      "execution_count": null,
      "outputs": [
        {
          "output_type": "stream",
          "name": "stdout",
          "text": [
            "/content/drive/My Drive/SAP\n"
          ]
        }
      ]
    },
    {
      "cell_type": "code",
      "source": [
        "cd ./03-11/"
      ],
      "metadata": {
        "colab": {
          "base_uri": "https://localhost:8080/"
        },
        "id": "31XFwL4508C1",
        "outputId": "dfc63f48-0a50-49b1-a668-2588e42d1f51"
      },
      "execution_count": null,
      "outputs": [
        {
          "output_type": "stream",
          "name": "stdout",
          "text": [
            "/content/drive/My Drive/SAP/03-11\n"
          ]
        }
      ]
    },
    {
      "cell_type": "code",
      "source": [
        "ls\n"
      ],
      "metadata": {
        "id": "l5kSYHwl1AgQ",
        "outputId": "3080bdab-34d1-4f7c-de9c-ddea09b61be0",
        "colab": {
          "base_uri": "https://localhost:8080/"
        }
      },
      "execution_count": null,
      "outputs": [
        {
          "output_type": "stream",
          "name": "stdout",
          "text": [
            "LDAP.csv  MSSQL.csv  NetBIOS.csv  Portmap.csv  Syn.csv  UDP.csv  UDPLag.csv\n"
          ]
        }
      ]
    },
    {
      "cell_type": "code",
      "source": [
        "import pandas as pd\n",
        "fields= ['Max Packet Length','Fwd Packet Length Max','Fwd Packet Length Min','Average Packet Size','Min Packet Length','Label']\n",
        "df = pd.read_csv(\"LDAP.csv\",skipinitialspace=True, usecols = fields)\n",
        "#df = pd.read_csv('data.csv', skipinitialspace=True, usecols=fields)\n",
        "\n"
      ],
      "metadata": {
        "id": "6C9KQhbqkrgR"
      },
      "execution_count": null,
      "outputs": []
    },
    {
      "cell_type": "code",
      "source": [
        "df['Label'].unique()"
      ],
      "metadata": {
        "colab": {
          "base_uri": "https://localhost:8080/"
        },
        "id": "jiIyeXngqD-N",
        "outputId": "0787a223-8611-4d0e-b61f-c32ba5dea1fb"
      },
      "execution_count": null,
      "outputs": [
        {
          "output_type": "execute_result",
          "data": {
            "text/plain": [
              "array(['NetBIOS', 'BENIGN', 'LDAP'], dtype=object)"
            ]
          },
          "metadata": {},
          "execution_count": 15
        }
      ]
    },
    {
      "cell_type": "code",
      "source": [
        "import pandas as pd\n",
        "#df=pd.read_csv('./clean_1.csv')"
      ],
      "metadata": {
        "id": "DUeKc13r4bWn"
      },
      "execution_count": null,
      "outputs": []
    },
    {
      "cell_type": "code",
      "source": [
        "mssql=pd.read_csv('./MSSQL.csv')\n",
        "mssql_cols = list(mssql.columns.values)"
      ],
      "metadata": {
        "colab": {
          "base_uri": "https://localhost:8080/"
        },
        "id": "kNjFMhNN4bgB",
        "outputId": "dce502ce-ffeb-4e0c-d4ab-07c5d0ff3d29"
      },
      "execution_count": null,
      "outputs": [
        {
          "output_type": "stream",
          "name": "stderr",
          "text": [
            "/usr/local/lib/python3.7/dist-packages/IPython/core/interactiveshell.py:2882: DtypeWarning: Columns (85) have mixed types.Specify dtype option on import or set low_memory=False.\n",
            "  exec(code_obj, self.user_global_ns, self.user_ns)\n"
          ]
        }
      ]
    },
    {
      "cell_type": "code",
      "source": [
        "bios=pd.read_csv('./NetBIOS.csv')\n",
        "bios_cols = list(bios.columns.values)\n",
        "portmap = pd.read_csv('./Portmap.csv')\n",
        "port_cols = list(portmap.columns.values)"
      ],
      "metadata": {
        "id": "j2vGQTdn4bix"
      },
      "execution_count": null,
      "outputs": []
    },
    {
      "cell_type": "code",
      "source": [
        "syn=pd.read_csv('./Syn.csv')\n",
        "syn_cols = list(syn.columns.values)"
      ],
      "metadata": {
        "id": "rrEGq0634bnq"
      },
      "execution_count": null,
      "outputs": []
    },
    {
      "cell_type": "code",
      "source": [
        "udpLag = pd.read_csv('./UDPLag.csv')\n",
        "udpLag_cols = list(udpLag.columns.values)"
      ],
      "metadata": {
        "id": "y2WeCpl74bqR"
      },
      "execution_count": null,
      "outputs": []
    },
    {
      "cell_type": "code",
      "source": [
        "udp = pd.read_csv('./UDP.csv')\n",
        "udp_cols = list(udp.columns.values)"
      ],
      "metadata": {
        "id": "LpSJcJPh4bta"
      },
      "execution_count": null,
      "outputs": []
    },
    {
      "cell_type": "code",
      "source": [
        "ldap = pd.read_csv('./LDAP.csv')\n",
        "ldap_cols = list(ldap.columns.values)"
      ],
      "metadata": {
        "id": "sl2ytVP542rR"
      },
      "execution_count": null,
      "outputs": []
    },
    {
      "cell_type": "code",
      "source": [
        "print(\"LDAP= \",ldap.shape)\n",
        "print(\"MSSQL= \",mssql.shape)\n",
        "print(\"BIOS= \",bios.shape)\n",
        "print(\"Portmap= \",portmap.shape)\n",
        "print(\"SYN= \",syn.shape)\n",
        "print(\"UDP= \",udp.shape)\n",
        "print(\"UDPLag= \",udpLag.shape)\n",
        "print(\"min =\", min(udpLag.shape,udp.shape,syn.shape,bios.shape,mssql.shape,ldap.shape))"
      ],
      "metadata": {
        "id": "iGJ0P9hd5CyV"
      },
      "execution_count": null,
      "outputs": []
    },
    {
      "cell_type": "code",
      "source": [
        "ld = ldap.iloc[:191694,]\n",
        "ld.to_csv('./7_classes/ldap7.csv')\n",
        "f = portmap.iloc[:191694,]\n",
        "f.to_csv('./7_classes/portmap7.csv')"
      ],
      "metadata": {
        "id": "CEbYK8ylXw1d"
      },
      "execution_count": null,
      "outputs": []
    },
    {
      "cell_type": "code",
      "source": [
        "a = mssql.iloc[:191694,]\n",
        "a.to_csv('./7_classes/mssql7.csv')\n",
        "b = bios.iloc[:191694,]\n",
        "b.to_csv('./7_classes/bios7.csv')\n",
        "c = syn.iloc[:191694,]\n",
        "c.to_csv('./7_classes/syn7.csv')\n",
        "d = udp.iloc[:191694,]\n",
        "d.to_csv('./7_classes/udp7.csv')\n",
        "e = udpLag.iloc[:191694,]\n",
        "e.to_csv('./7_classes/udpLag7.csv')"
      ],
      "metadata": {
        "id": "mQZtRbh1XxCA"
      },
      "execution_count": null,
      "outputs": []
    },
    {
      "cell_type": "code",
      "source": [
        "#working with 7_classes.\n",
        "import pandas as pd\n",
        "ldap = pd.read_csv(\"ldap7.csv\")\n",
        "mssql = pd.read_csv(\"mssql7.csv\")\n",
        "bios = pd.read_csv(\"bios7.csv\")\n",
        "portmap = pd.read_csv(\"portmap7.csv\")\n",
        "syn = pd.read_csv(\"syn7.csv\")\n",
        "udp = pd.read_csv(\"udp7.csv\")\n",
        "udplag = pd.read_csv(\"udpLag7.csv\")"
      ],
      "metadata": {
        "id": "-kN5kAF2XxGO"
      },
      "execution_count": null,
      "outputs": []
    },
    {
      "cell_type": "code",
      "source": [
        "#checking for missing values\n",
        "udplag.isnull().sum()"
      ],
      "metadata": {
        "id": "laXE0Ap3XxKH"
      },
      "execution_count": null,
      "outputs": []
    },
    {
      "cell_type": "code",
      "source": [
        "df.head()\n"
      ],
      "metadata": {
        "id": "fuEnJWsCXxON"
      },
      "execution_count": null,
      "outputs": []
    },
    {
      "cell_type": "code",
      "source": [
        "ldap.describe()"
      ],
      "metadata": {
        "id": "JOSMmvqQYXJE"
      },
      "execution_count": null,
      "outputs": []
    },
    {
      "cell_type": "code",
      "source": [
        "ds = pd.concat([ldap, mssql, bios, portmap, syn, udp, udplag])"
      ],
      "metadata": {
        "id": "rX0dlNRoYXfh"
      },
      "execution_count": null,
      "outputs": []
    },
    {
      "cell_type": "code",
      "source": [
        "ds=ds.drop(\"Bwd PSH Flags\", axis=1)"
      ],
      "metadata": {
        "id": "LnnxyIRqYXwT"
      },
      "execution_count": null,
      "outputs": []
    },
    {
      "cell_type": "code",
      "source": [
        "ds.to_csv('./complete_dataset.csv')"
      ],
      "metadata": {
        "id": "ddd0XXQ9YXx3"
      },
      "execution_count": null,
      "outputs": []
    },
    {
      "cell_type": "code",
      "source": [
        "ds.info()"
      ],
      "metadata": {
        "id": "WBaohooVYX1h"
      },
      "execution_count": null,
      "outputs": []
    },
    {
      "cell_type": "code",
      "source": [
        "cd  ./content/drive/My\\ Drive/7_classes/"
      ],
      "metadata": {
        "id": "5pMkg2dPYX38"
      },
      "execution_count": null,
      "outputs": []
    },
    {
      "cell_type": "code",
      "source": [
        "#working with all classes dataset\n",
        "cd ./drive/My\\ Drive/7_classes/\n",
        "import pandas as pd\n",
        "df = pd.read_csv('./complete_dataset.csv')"
      ],
      "metadata": {
        "id": "JePZRdpxYyV4"
      },
      "execution_count": null,
      "outputs": []
    },
    {
      "cell_type": "code",
      "source": [
        "print(\"columns: \", len(df.columns))\n",
        "df.columns"
      ],
      "metadata": {
        "id": "c1tJjInkYyfJ"
      },
      "execution_count": null,
      "outputs": []
    },
    {
      "cell_type": "code",
      "source": [
        "#df = pd.read_csv('./complete_dataset.csv')\n",
        "df.describe()"
      ],
      "metadata": {
        "id": "LNsLVfSdYyhu"
      },
      "execution_count": null,
      "outputs": []
    },
    {
      "cell_type": "code",
      "source": [
        "#removing columns where variation(std) is 0\n",
        "df=df.drop(' Bwd PSH Flags',axis=1)\n",
        "df=df.drop(' Fwd URG Flags',axis=1)\n",
        "df=df.drop(' Bwd URG Flags',axis=1)\n",
        "df=df.drop('FIN Flag Count',axis=1)\n",
        "df=df.drop(' PSH Flag Count',axis=1)\n",
        "df=df.drop(' ECE Flag Count',axis=1)\n",
        "df=df.drop('Fwd Avg Bytes/Bulk',axis=1)\n",
        "df=df.drop(' Fwd Avg Packets/Bulk',axis=1)\n",
        "df=df.drop(' Fwd Avg Bulk Rate',axis=1)\n",
        "df=df.drop(' Bwd Avg Bytes/Bulk',axis=1)\n",
        "df=df.drop(' Bwd Avg Packets/Bulk',axis=1)\n",
        "df=df.drop('Bwd Avg Bulk Rate',axis=1)\n",
        "df=df.drop('Unnamed: 0',axis=1)\n",
        "df=df.drop('Unnamed: 0.1',axis=1)\n",
        "df=df.drop('SimillarHTTP', axis=1)\n",
        "df=df.drop('Flow ID', axis=1)\n",
        "df=df.drop(' Timestamp', axis=1)"
      ],
      "metadata": {
        "id": "p2U198K1Yyk2"
      },
      "execution_count": null,
      "outputs": []
    },
    {
      "cell_type": "code",
      "source": [
        "df=df.drop(' Timestamp', axis=1)"
      ],
      "metadata": {
        "id": "GsA-2FASYyn0"
      },
      "execution_count": null,
      "outputs": []
    },
    {
      "cell_type": "code",
      "source": [
        "df.to_csv('./clean_2.csv')"
      ],
      "metadata": {
        "id": "zRIdje9WYyq5"
      },
      "execution_count": null,
      "outputs": []
    },
    {
      "cell_type": "code",
      "source": [
        "#handling categorical data\n",
        "df = df.rename(columns={\" Label\": \"Label\"})\n",
        "df.info()"
      ],
      "metadata": {
        "id": "bhkNhy9nZMY9"
      },
      "execution_count": null,
      "outputs": []
    },
    {
      "cell_type": "code",
      "source": [
        "#df.columns\n",
        "df.Label.unique()\n",
        "df['Label'] = df['Label'].replace('BENIGN', '0')\n",
        "df['Label'] = df['Label'].replace('NetBIOS', '1')\n",
        "df['Label'] = df['Label'].replace('LDAP', '2')\n",
        "df['Label'] = df['Label'].replace('MSSQL', '3')\n",
        "df['Label'] = df['Label'].replace('Portmap', '4')\n",
        "df['Label'] = df['Label'].replace('Syn', '5')\n",
        "df['Label'] = df['Label'].replace('UDP', '6')\n",
        "df['Label'] = df['Label'].replace('UDPLag', '7')\n",
        "df['Label'] = df['Label'].astype('int')\n",
        "df.Label.unique()"
      ],
      "metadata": {
        "id": "S68gGNF6ZOoW"
      },
      "execution_count": null,
      "outputs": []
    },
    {
      "cell_type": "code",
      "source": [
        "df.Label.value_counts()"
      ],
      "metadata": {
        "id": "BB-6jaFVZi_d"
      },
      "execution_count": null,
      "outputs": []
    },
    {
      "cell_type": "code",
      "source": [
        "print('num = ',len(df[' Source IP'].unique()))\n",
        "df[' Source IP'].unique()\n",
        "\n",
        "#df['Flow Bytes/s'] = df['Flow Bytes/s'].astype('float')"
      ],
      "metadata": {
        "id": "eAxa_GVVZl8k"
      },
      "execution_count": null,
      "outputs": []
    },
    {
      "cell_type": "code",
      "source": [
        "from sklearn.preprocessing import LabelEncoder\n",
        "le = LabelEncoder()\n",
        "a = df\n",
        "#df['label'] = le.fit_transform(df.label.values)\n",
        "#le.fit(a['SimillarHTTP'])"
      ],
      "metadata": {
        "id": "p1W0KOxBZpl0"
      },
      "execution_count": null,
      "outputs": []
    },
    {
      "cell_type": "code",
      "source": [
        "#converting source and destination ip address to decimals\n",
        "#!pip install netaddr\n",
        "import netaddr\n",
        "#print(int(netaddr.IPAddress('192.168.4.54')))\n",
        "ips = df[' Destination IP']\n",
        "converted=[]\n",
        "for i in range(len(ips)):\n",
        "  converted.append(int(netaddr.IPAddress(ips[i])))\n",
        "print(\"done\")"
      ],
      "metadata": {
        "id": "B98p_IAEZs1K"
      },
      "execution_count": null,
      "outputs": []
    },
    {
      "cell_type": "code",
      "source": [
        "#replacing ip in df with its decimal form\n",
        "ips = df[' Source IP'].unique()\n",
        "l = len(ips)\n",
        "print('strating loop, length is',l)\n",
        "for i in range(l):\n",
        "  df[' Source IP'] = df[' Source IP'].replace(ips[i], int(netaddr.IPAddress(ips[i])))\n",
        "print('loop over')"
      ],
      "metadata": {
        "id": "6sQADb5BZxub"
      },
      "execution_count": null,
      "outputs": []
    },
    {
      "cell_type": "code",
      "source": [
        "df['Flow Bytes/s'] = df['Flow Bytes/s'].astype('float')"
      ],
      "metadata": {
        "id": "8le0nlo0Z5QG"
      },
      "execution_count": null,
      "outputs": []
    },
    {
      "cell_type": "code",
      "source": [
        "len(df[' Timestamp'])"
      ],
      "metadata": {
        "id": "Qap139vtZ9xF"
      },
      "execution_count": null,
      "outputs": []
    },
    {
      "cell_type": "code",
      "source": [
        "#handling timestamp\n",
        "\n",
        "y=[]\n",
        "m=[]\n",
        "d=[]\n",
        "h=[]\n",
        "mi=[]\n",
        "for i in range(len(df[' Timestamp'])):\n",
        "  a=int(df[' Timestamp'][0][0:4])\n",
        "  y.append(a)\n",
        "\n",
        "  b= int(df[' Timestamp'][0][5:7])\n",
        "  m.append(b)\n",
        "\n",
        "  c = int(df[' Timestamp'][0][8:10])\n",
        "  d.append(c)\n",
        "\n",
        "\n",
        "  e= int(df[' Timestamp'][0][11:13])\n",
        "  h.append(e)\n",
        "\n",
        "  f= int(df[' Timestamp'][0][14:16])\n",
        "  mi.append(f)\n",
        "\n",
        "  if(i%100000==0):\n",
        "    print('completed ',i)"
      ],
      "metadata": {
        "id": "gW6WBUUXZ-Oo"
      },
      "execution_count": null,
      "outputs": []
    },
    {
      "cell_type": "code",
      "source": [
        "mi = pd.DataFrame(mi)\n",
        "mi.describe()"
      ],
      "metadata": {
        "id": "aqQduRBSaC1Z"
      },
      "execution_count": null,
      "outputs": []
    },
    {
      "cell_type": "code",
      "source": [
        "#creating heatmap for determining correlation\n",
        "#take 10 columns at a time\n",
        "import seaborn as sn\n",
        "corr_mat=df.corr()\n",
        "sn.heatmap(corr_mat, annot=True)"
      ],
      "metadata": {
        "id": "226t0XFSaF8d"
      },
      "execution_count": null,
      "outputs": []
    },
    {
      "cell_type": "code",
      "source": [
        "import matplotlib.pyplot as plt\n",
        "plt.figure(figsize=(100,200))\n",
        "cor = df.corr()\n",
        "sn.heatmap(cor, annot=True, cmap=plt.cm.Reds)\n",
        "plt.show()"
      ],
      "metadata": {
        "id": "asQbPHowaMAn"
      },
      "execution_count": null,
      "outputs": []
    },
    {
      "cell_type": "code",
      "source": [
        "df.columns"
      ],
      "metadata": {
        "id": "E0cWVLY4aMlV"
      },
      "execution_count": null,
      "outputs": []
    },
    {
      "cell_type": "code",
      "source": [
        "#removing all the 0.0 correlation values\n",
        "df=df.drop(' Source IP',axis=1)\n",
        "df=df.drop(' Flow Duration',axis=1)\n",
        "df=df.drop(' Total Fwd Packets',axis=1)\n",
        "df=df.drop(' Total Backward Packets',axis=1)\n",
        "df=df.drop(' Total Length of Bwd Packets',axis=1)\n",
        "df=df.drop(' Fwd Packet Length Std',axis=1)\n",
        "df=df.drop(' Flow IAT Max',axis=1)\n",
        "df=df.drop(' Flow IAT Min',axis=1)\n",
        "df=df.drop('Fwd IAT Total',axis=1)\n",
        "df=df.drop(' Fwd IAT Max',axis=1)\n",
        "df=df.drop(' Fwd IAT Min',axis=1)\n",
        "df=df.drop('Bwd IAT Total',axis=1)\n",
        "df=df.drop(' Bwd IAT Mean',axis=1)\n",
        "df=df.drop(' Bwd IAT Std',axis=1)\n",
        "df=df.drop(' Bwd IAT Max',axis=1)\n",
        "df=df.drop(' Bwd IAT Min',axis=1)\n",
        "df=df.drop(' Fwd Header Length',axis=1)\n",
        "df=df.drop(' Bwd Header Length',axis=1)\n",
        "df=df.drop(' Bwd Packets/s',axis=1)\n",
        "df=df.drop(' SYN Flag Count',axis=1)\n",
        "df=df.drop(' Down/Up Ratio',axis=1)\n",
        "df=df.drop(' Fwd Header Length.1',axis=1)\n",
        "df=df.drop('Subflow Fwd Packets',axis=1)\n",
        "df=df.drop(' Subflow Bwd Packets',axis=1)\n",
        "df=df.drop(' Subflow Bwd Bytes',axis=1)\n",
        "df=df.drop(' act_data_pkt_fwd',axis=1)\n",
        "df=df.drop(' min_seg_size_forward',axis=1)\n",
        "df=df.drop('Active Mean',axis=1)\n",
        "df=df.drop(' Active Std',axis=1)\n",
        "df=df.drop(' Active Max',axis=1)\n",
        "df=df.drop(' Active Min',axis=1)\n",
        "df=df.drop('Idle Mean',axis=1)\n",
        "df=df.drop(' Idle Max',axis=1)\n",
        "df=df.drop(' Idle Min',axis=1)\n",
        " df = df.drop(' Packet Length Std',axis=1)"
      ],
      "metadata": {
        "id": "Vjt4mdQNaOgl"
      },
      "execution_count": null,
      "outputs": []
    },
    {
      "cell_type": "code",
      "source": [
        "#after corr columns removed\n",
        "df.to_csv('./clean_5.csv')"
      ],
      "metadata": {
        "id": "kLBmbTFlaTed"
      },
      "execution_count": null,
      "outputs": []
    },
    {
      "cell_type": "code",
      "source": [
        "df.head()"
      ],
      "metadata": {
        "id": "5ZUOz_rraZ0Y"
      },
      "execution_count": null,
      "outputs": []
    },
    {
      "cell_type": "code",
      "source": [
        "df.describe()"
      ],
      "metadata": {
        "id": "9344G8d2ab2i"
      },
      "execution_count": null,
      "outputs": []
    }
  ]
}